{
 "cells": [
  {
   "cell_type": "code",
   "execution_count": null,
   "metadata": {},
   "outputs": [],
   "source": [
    "#:Expain with an example each when to usefor loop and while loop\n",
    "'''Ans1:A for loop is used when you know how many times a block of code needs to be repeated,\n",
    "       whileas a while loop is used when the number of repetitions is unknown\n",
    "Example:Use a for loop to iterate over an array. Use a for loop when you know the loop should execute n times.\n",
    "       Use a while loop for reading a file into a variable. Use a while loop when asking for user input.'''"
   ]
  },
  {
   "cell_type": "code",
   "execution_count": null,
   "metadata": {},
   "outputs": [],
   "source": [
    "#programme to print sum and multiplication of first 100 numbers using for loop\n",
    "num = int(input(\"Enter the range of numbers to sum\"))\n",
    "num1=int(input(\"Enter the range of numbers to multiplicatoin\"))\n",
    "sum=0\n",
    "mul=1\n",
    "for i in range(1,num+1):\n",
    "     sum=sum+i\n",
    "print(sum)\n",
    "for j in range(1,num1+1):\n",
    "     mul=mul*j\n",
    "print(mul)"
   ]
  },
  {
   "cell_type": "code",
   "execution_count": null,
   "metadata": {},
   "outputs": [],
   "source": [
    "#programme to print sum and multiplication of first 100 numbers using while loop\n",
    "n=int(input(\"Enter range of numbers to get sum\"))\n",
    "s=1\n",
    "sum=0\n",
    "while(s<=n):\n",
    "    sum+=s\n",
    "    s+=1\n",
    "print(sum)\n",
    "n1=int(input(\"Enter range of numbers to get product\"))\n",
    "s=1\n",
    "mul=1\n",
    "while(s<=n1):\n",
    "    mul=mul*s\n",
    "    s+=1\n",
    "print(mul)    "
   ]
  },
  {
   "cell_type": "code",
   "execution_count": null,
   "metadata": {},
   "outputs": [],
   "source": [
    "#programme to calculate electricity bill\n",
    "consume_units = int(input(\"Enter the units you consumed in one month\"))\n",
    "consume_units1 = 100*4.5\n",
    "consume_units2 = 100*6\n",
    "consume_units3 = 100*10\n",
    "j=1\n",
    "if (consume_units == 100):\n",
    "    Total_electricity_bill=consume_units1\n",
    "if (consume_units > 100 and consume_units <= 200):\n",
    "    for i in range(101,consume_units+1):\n",
    "        result = j*6\n",
    "        j=j+1\n",
    "    Total_electricity_bill = consume_units1 + result\n",
    "if (consume_units > 200 and consume_units <= 300):\n",
    "    for i in range(201,consume_units+1):\n",
    "        result = j*10\n",
    "        j=j+1\n",
    "    Total_electricity_bill = consume_units1 + consume_units2 + result\n",
    "if (consume_units > 300):\n",
    "    for i in range(301,consume_units+1):\n",
    "        result = j*20\n",
    "        j=j+1\n",
    "    Total_electricity_bill = consume_units1 + consume_units2 + consume_units3 + result\n",
    "print(\"The total units you consumed in one month is: \",consume_units,\"and \\n\",\n",
    "      \"Total_electricity_bill is :\", Total_electricity_bill)"
   ]
  },
  {
   "cell_type": "code",
   "execution_count": null,
   "metadata": {},
   "outputs": [],
   "source": [
    "#programme to find cubes of first 100 numbers and find which is divisible by 4 and 5\n",
    "list = int (input (\"Enter the range to find cubes\"))\n",
    "cubes=[]\n",
    "div=[]\n",
    "for i in range(list):\n",
    "    cubes.append(i**3)\n",
    "    if (i%4 == 0 or i%5 == 0):\n",
    "        div.append(i)\n",
    "print (\"The cubes are \")\n",
    "for i in cubes:\n",
    "    print(i,end=' ')\n",
    "print (\"The numbers which are divisible by 4 or 5 are\")\n",
    "for i in div:\n",
    "    print(i)\n"
   ]
  },
  {
   "cell_type": "code",
   "execution_count": null,
   "metadata": {},
   "outputs": [],
   "source": [
    "#programme to print and count vowel letters in a string\n",
    "string='i want to become a data scientist'\n",
    "l=[]\n",
    "count = 0\n",
    "vowel=['a','e','i','o','u']\n",
    "for i in string:\n",
    "    if i in vowel:\n",
    "       l.append(i)\n",
    "       count+=1\n",
    "for k in l:\n",
    "    print(k,end=' ')\n",
    "print('\\n')\n",
    "print(\"{} letters \".format(count))"
   ]
  }
 ],
 "metadata": {
  "kernelspec": {
   "display_name": "Python 3",
   "language": "python",
   "name": "python3"
  },
  "language_info": {
   "codemirror_mode": {
    "name": "ipython",
    "version": 3
   },
   "file_extension": ".py",
   "mimetype": "text/x-python",
   "name": "python",
   "nbconvert_exporter": "python",
   "pygments_lexer": "ipython3",
   "version": "3.12.3"
  }
 },
 "nbformat": 4,
 "nbformat_minor": 2
}
